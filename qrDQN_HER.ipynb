{
  "nbformat": 4,
  "nbformat_minor": 0,
  "metadata": {
    "colab": {
      "name": "qrDQN - HER.ipynb",
      "provenance": [],
      "collapsed_sections": []
    },
    "kernelspec": {
      "name": "python3",
      "display_name": "Python 3"
    },
    "accelerator": "GPU"
  },
  "cells": [
    {
      "cell_type": "markdown",
      "metadata": {
        "id": "hyyN-2qyK_T2"
      },
      "source": [
        "\n",
        "\n",
        "\n",
        "# Stable Baselines contrib - qrDQN & HER\n",
        "\n",
        "Github Repo:\n",
        "[https://github.com/Stable-Baselines-Team/stable-baselines3-contrib/blob/75b2de139927da26d5871aef9fd839632f73b296/sb3_contrib/qrdqn/qrdqn.py]"
      ]
    },
    {
      "cell_type": "code",
      "metadata": {
        "id": "gWskDE2c9WoN",
        "colab": {
          "base_uri": "https://localhost:8080/"
        },
        "outputId": "88894e98-4a69-49c7-9500-9faf0d113d24"
      },
      "source": [
        "!apt install swig cmake\n",
        "!pip install stable-baselines3[extra] box2d box2d-kengz"
      ],
      "execution_count": 1,
      "outputs": [
        {
          "output_type": "stream",
          "name": "stdout",
          "text": [
            "  Building wheel for box2d-kengz (setup.py) ... \u001b[?25l\u001b[?25hdone\n",
            "  Created wheel for box2d-kengz: filename=Box2D_kengz-2.3.3-cp37-cp37m-linux_x86_64.whl size=2023555 sha256=a1f1531d48ea914965db386994b9748c74926a0f623e0e7711653cf721178462\n",
            "  Stored in directory: /root/.cache/pip/wheels/50/6d/6a/6ff76731fd9e8efbd1cdc6111e98b2dd0f1872184d7c28939c\n",
            "  Building wheel for gym (setup.py) ... \u001b[?25l\u001b[?25hdone\n",
            "  Created wheel for gym: filename=gym-0.21.0-py3-none-any.whl size=1616826 sha256=b91c893e386bbbaca2d06e0140532279efe5836438953b177028d759045eeee7\n",
            "  Stored in directory: /root/.cache/pip/wheels/76/ee/9c/36bfe3e079df99acf5ae57f4e3464ff2771b34447d6d2f2148\n",
            "  Building wheel for AutoROM.accept-rom-license (PEP 517) ... \u001b[?25l\u001b[?25hdone\n",
            "  Created wheel for AutoROM.accept-rom-license: filename=AutoROM.accept_rom_license-0.4.2-py3-none-any.whl size=441027 sha256=a77fb7addcedb57f9fa359f9ba85c60063e1621e049ccdb69536702fbea1ca9b\n",
            "  Stored in directory: /root/.cache/pip/wheels/87/67/2e/6147e7912fe37f5408b80d07527dab807c1d25f5c403a9538a\n",
            "Successfully built box2d-kengz gym AutoROM.accept-rom-license\n",
            "Installing collected packages: gym, AutoROM.accept-rom-license, autorom, stable-baselines3, ale-py, box2d-kengz, box2d\n",
            "  Attempting uninstall: gym\n",
            "    Found existing installation: gym 0.17.3\n",
            "    Uninstalling gym-0.17.3:\n",
            "      Successfully uninstalled gym-0.17.3\n",
            "Successfully installed AutoROM.accept-rom-license-0.4.2 ale-py-0.7.5 autorom-0.4.2 box2d-2.3.10 box2d-kengz-2.3.3 gym-0.21.0 stable-baselines3-1.5.0\n"
          ]
        }
      ]
    },
    {
      "cell_type": "code",
      "source": [
        "\n",
        "!apt-get install -y xvfb python-opengl ffmpeg > /dev/null 2>&1 # render \n",
        "\n",
        "!pip install -U colabgymrender # for rendering"
      ],
      "metadata": {
        "colab": {
          "base_uri": "https://localhost:8080/"
        },
        "id": "shWXTU_yGUr4",
        "outputId": "a6ca61d4-4c99-4274-d073-40807cf9a6d5"
      },
      "execution_count": 2,
      "outputs": [
        {
          "output_type": "stream",
          "name": "stdout",
          "text": [
            "Looking in indexes: https://pypi.org/simple, https://us-python.pkg.dev/colab-wheels/public/simple/\n",
            "Collecting colabgymrender\n",
            "  Downloading colabgymrender-1.0.9-py3-none-any.whl (3.1 kB)\n",
            "Requirement already satisfied: moviepy in /usr/local/lib/python3.7/dist-packages (from colabgymrender) (0.2.3.5)\n",
            "Requirement already satisfied: numpy in /usr/local/lib/python3.7/dist-packages (from moviepy->colabgymrender) (1.21.6)\n",
            "Requirement already satisfied: decorator<5.0,>=4.0.2 in /usr/local/lib/python3.7/dist-packages (from moviepy->colabgymrender) (4.4.2)\n",
            "Requirement already satisfied: imageio<3.0,>=2.1.2 in /usr/local/lib/python3.7/dist-packages (from moviepy->colabgymrender) (2.4.1)\n",
            "Requirement already satisfied: tqdm<5.0,>=4.11.2 in /usr/local/lib/python3.7/dist-packages (from moviepy->colabgymrender) (4.64.0)\n",
            "Requirement already satisfied: pillow in /usr/local/lib/python3.7/dist-packages (from imageio<3.0,>=2.1.2->moviepy->colabgymrender) (7.1.2)\n",
            "Installing collected packages: colabgymrender\n",
            "Successfully installed colabgymrender-1.0.9\n"
          ]
        }
      ]
    },
    {
      "cell_type": "markdown",
      "metadata": {
        "id": "FtY8FhliLsGm"
      },
      "source": [
        "## Import policy, RL agent, Wrappers"
      ]
    },
    {
      "cell_type": "code",
      "metadata": {
        "id": "BIedd7Pz9sOs"
      },
      "source": [
        "import os\n",
        "\n",
        "import gym\n",
        "import numpy as np\n",
        "import matplotlib.pyplot as plt\n",
        "from stable_baselines3 import HER, DQN,HerReplayBuffer\n",
        "from stable_baselines3.common.monitor import Monitor\n",
        "from stable_baselines3.common.results_plotter import load_results, ts2xy\n",
        "from stable_baselines3.common.callbacks import BaseCallback"
      ],
      "execution_count": 4,
      "outputs": []
    },
    {
      "cell_type": "code",
      "source": [
        "!pip install sb3-contrib"
      ],
      "metadata": {
        "id": "e_j-j_-AUoZU"
      },
      "execution_count": null,
      "outputs": []
    },
    {
      "cell_type": "code",
      "source": [
        "from sb3_contrib.ars import ARS\n",
        "from sb3_contrib.ppo_mask import MaskablePPO\n",
        "from sb3_contrib.qrdqn.policies import CnnPolicy, MlpPolicy, MultiInputPolicy\n",
        "from sb3_contrib.qrdqn.qrdqn import QRDQN\n",
        "# from sb3_contrib.ppo_recurrent.ppo_recurrent import RecurrentPPO # no longer working \n",
        "# from sb3_contrib.ppo_recurrent.policies import CnnLstmPolicy"
      ],
      "metadata": {
        "id": "14dc8OJoUbTq"
      },
      "execution_count": 7,
      "outputs": []
    },
    {
      "cell_type": "code",
      "source": [
        "%load_ext tensorboard\n"
      ],
      "metadata": {
        "id": "0S-unbyKvgAZ"
      },
      "execution_count": 8,
      "outputs": []
    },
    {
      "cell_type": "markdown",
      "metadata": {
        "id": "7c8VHsiXC7dL"
      },
      "source": [
        "## Create and wrap the environment\n",
        "\n",
        "We will be using Lunar Lander environment with continuous actions"
      ]
    },
    {
      "cell_type": "code",
      "metadata": {
        "id": "kmxIq5UeC3Nj"
      },
      "source": [
        "# Create log dir\n",
        "log_dir = \"/tmp/gym/\"\n",
        "os.makedirs(log_dir, exist_ok=True)\n",
        "\n",
        "# Create and wrap the environment\n",
        "env = gym.make('SpaceInvaders-v0')\n",
        "# Logs will be saved in log_dir/monitor.csv\n",
        "env = Monitor(env, log_dir)"
      ],
      "execution_count": 9,
      "outputs": []
    },
    {
      "cell_type": "markdown",
      "metadata": {
        "id": "RapkYvTXL7Cd"
      },
      "source": [
        "## custom Callback Function\n"
      ]
    },
    {
      "cell_type": "code",
      "metadata": {
        "id": "pUWGZp3i9wyf"
      },
      "source": [
        "class SaveOnBestTrainingRewardCallback(BaseCallback):\n",
        "    \"\"\"\n",
        "    Callback for saving a model (the check is done every ``check_freq`` steps)\n",
        "    based on the training reward (in practice, we recommend using ``EvalCallback``).\n",
        "\n",
        "    :param check_freq: (int)\n",
        "    :param log_dir: (str) Path to the folder where the model will be saved.\n",
        "      It must contains the file created by the ``Monitor`` wrapper.\n",
        "    :param verbose: (int)\n",
        "    \"\"\"\n",
        "    def __init__(self, check_freq: int, log_dir: str, verbose=1):\n",
        "        super(SaveOnBestTrainingRewardCallback, self).__init__(verbose)\n",
        "        self.check_freq = check_freq\n",
        "        self.log_dir = log_dir\n",
        "        self.save_path = os.path.join(log_dir, 'best_model')\n",
        "        self.best_mean_reward = -np.inf\n",
        "\n",
        "    def _init_callback(self) -> None:\n",
        "        # Create folder if needed\n",
        "        if self.save_path is not None:\n",
        "            os.makedirs(self.save_path, exist_ok=True)\n",
        "\n",
        "    def _on_step(self) -> bool:\n",
        "        if self.n_calls % self.check_freq == 0:\n",
        "\n",
        "          # Retrieve training reward\n",
        "          x, y = ts2xy(load_results(self.log_dir), 'timesteps')\n",
        "          if len(x) > 0:\n",
        "              # Mean training reward over the last 100 episodes\n",
        "              mean_reward = np.mean(y[-100:])\n",
        "              if self.verbose > 0:\n",
        "                print(f\"Num timesteps: {self.num_timesteps}\")\n",
        "                print(f\"Best mean reward: {self.best_mean_reward:.2f} - Last mean reward per episode: {mean_reward:.2f}\")\n",
        "\n",
        "              # New best model, you could save the agent here\n",
        "              if mean_reward > self.best_mean_reward:\n",
        "                  self.best_mean_reward = mean_reward\n",
        "                  # Example for saving best model\n",
        "                  if self.verbose > 0:\n",
        "                    print(f\"Saving new best model to {self.save_path}.zip\")\n",
        "                  self.model.save(self.save_path)\n",
        "\n",
        "        return True\n",
        "callback = SaveOnBestTrainingRewardCallback(check_freq=1000, log_dir=log_dir)"
      ],
      "execution_count": 10,
      "outputs": []
    },
    {
      "cell_type": "markdown",
      "metadata": {
        "id": "80OxZ_uMDd4J"
      },
      "source": [
        "## Define and train the agent ( vanilla dqn )\n"
      ]
    },
    {
      "cell_type": "code",
      "metadata": {
        "id": "iaOPfOrwWEP4",
        "colab": {
          "base_uri": "https://localhost:8080/"
        },
        "outputId": "fd7590e5-925a-4d06-9ae2-7073418198f5"
      },
      "source": [
        "# Create the callback: check every 1000 steps\n",
        "callback = SaveOnBestTrainingRewardCallback(check_freq=1000, log_dir=log_dir)\n",
        "# Create RL model\n",
        "dqn_model = DQN(\"CnnPolicy\",\n",
        "            env,\n",
        "            verbose=1,\n",
        "            train_freq=(10,'episode'),\n",
        "            gradient_steps=8,\n",
        "            gamma=0.95,\n",
        "            exploration_fraction=0.01,\n",
        "            exploration_final_eps=0.1,\n",
        "            target_update_interval=600,\n",
        "            buffer_size=10000,\n",
        "            batch_size=128,\n",
        "            learning_rate=4e-3,\n",
        "            policy_kwargs=dict(net_arch=[256, 256]),\n",
        "            seed=2)\n",
        "\n",
        "# Train the agent\n",
        "dqn_model.learn(total_timesteps=int(5e4), callback=callback)"
      ],
      "execution_count": 7,
      "outputs": [
        {
          "output_type": "stream",
          "name": "stdout",
          "text": [
            "Using cuda device\n",
            "Wrapping the env in a DummyVecEnv.\n",
            "Wrapping the env in a VecTransposeImage.\n",
            "Num timesteps: 1000\n",
            "Best mean reward: -inf - Last mean reward per episode: 210.00\n",
            "Saving new best model to /tmp/gym/best_model.zip\n",
            "Num timesteps: 2000\n",
            "Best mean reward: 210.00 - Last mean reward per episode: 150.00\n",
            "----------------------------------\n",
            "| rollout/            |          |\n",
            "|    ep_len_mean      | 619      |\n",
            "|    ep_rew_mean      | 151      |\n",
            "|    exploration_rate | 0.1      |\n",
            "| time/               |          |\n",
            "|    episodes         | 4        |\n",
            "|    fps              | 1173     |\n",
            "|    time_elapsed     | 2        |\n",
            "|    total_timesteps  | 2477     |\n",
            "----------------------------------\n",
            "Num timesteps: 3000\n",
            "Best mean reward: 210.00 - Last mean reward per episode: 151.25\n",
            "Num timesteps: 4000\n",
            "Best mean reward: 210.00 - Last mean reward per episode: 158.33\n",
            "Num timesteps: 5000\n",
            "Best mean reward: 210.00 - Last mean reward per episode: 157.86\n",
            "----------------------------------\n",
            "| rollout/            |          |\n",
            "|    ep_len_mean      | 675      |\n",
            "|    ep_rew_mean      | 158      |\n",
            "|    exploration_rate | 0.1      |\n",
            "| time/               |          |\n",
            "|    episodes         | 8        |\n",
            "|    fps              | 1268     |\n",
            "|    time_elapsed     | 4        |\n",
            "|    total_timesteps  | 5400     |\n",
            "----------------------------------\n",
            "Num timesteps: 6000\n",
            "Best mean reward: 210.00 - Last mean reward per episode: 157.50\n",
            "Num timesteps: 7000\n",
            "Best mean reward: 210.00 - Last mean reward per episode: 157.50\n",
            "Num timesteps: 8000\n",
            "Best mean reward: 210.00 - Last mean reward per episode: 166.36\n",
            "----------------------------------\n",
            "| rollout/            |          |\n",
            "|    ep_len_mean      | 697      |\n",
            "|    ep_rew_mean      | 161      |\n",
            "|    exploration_rate | 0.1      |\n",
            "| time/               |          |\n",
            "|    episodes         | 12       |\n",
            "|    fps              | 1305     |\n",
            "|    time_elapsed     | 6        |\n",
            "|    total_timesteps  | 8366     |\n",
            "----------------------------------\n",
            "Num timesteps: 9000\n",
            "Best mean reward: 210.00 - Last mean reward per episode: 154.62\n",
            "Num timesteps: 10000\n",
            "Best mean reward: 210.00 - Last mean reward per episode: 154.62\n",
            "Num timesteps: 11000\n",
            "Best mean reward: 210.00 - Last mean reward per episode: 170.00\n",
            "----------------------------------\n",
            "| rollout/            |          |\n",
            "|    ep_len_mean      | 719      |\n",
            "|    ep_rew_mean      | 163      |\n",
            "|    exploration_rate | 0.1      |\n",
            "| time/               |          |\n",
            "|    episodes         | 16       |\n",
            "|    fps              | 1333     |\n",
            "|    time_elapsed     | 8        |\n",
            "|    total_timesteps  | 11509    |\n",
            "----------------------------------\n",
            "Num timesteps: 12000\n",
            "Best mean reward: 210.00 - Last mean reward per episode: 163.44\n",
            "Num timesteps: 13000\n",
            "Best mean reward: 210.00 - Last mean reward per episode: 162.50\n",
            "----------------------------------\n",
            "| rollout/            |          |\n",
            "|    ep_len_mean      | 685      |\n",
            "|    ep_rew_mean      | 149      |\n",
            "|    exploration_rate | 0.1      |\n",
            "| time/               |          |\n",
            "|    episodes         | 20       |\n",
            "|    fps              | 1341     |\n",
            "|    time_elapsed     | 10       |\n",
            "|    total_timesteps  | 13698    |\n",
            "----------------------------------\n",
            "Num timesteps: 14000\n",
            "Best mean reward: 210.00 - Last mean reward per episode: 148.75\n",
            "Num timesteps: 15000\n",
            "Best mean reward: 210.00 - Last mean reward per episode: 146.67\n",
            "Num timesteps: 16000\n",
            "Best mean reward: 210.00 - Last mean reward per episode: 150.91\n",
            "----------------------------------\n",
            "| rollout/            |          |\n",
            "|    ep_len_mean      | 695      |\n",
            "|    ep_rew_mean      | 151      |\n",
            "|    exploration_rate | 0.1      |\n",
            "| time/               |          |\n",
            "|    episodes         | 24       |\n",
            "|    fps              | 1346     |\n",
            "|    time_elapsed     | 12       |\n",
            "|    total_timesteps  | 16676    |\n",
            "----------------------------------\n",
            "Num timesteps: 17000\n",
            "Best mean reward: 210.00 - Last mean reward per episode: 151.04\n",
            "Num timesteps: 18000\n",
            "Best mean reward: 210.00 - Last mean reward per episode: 152.12\n",
            "Num timesteps: 19000\n",
            "Best mean reward: 210.00 - Last mean reward per episode: 148.89\n",
            "----------------------------------\n",
            "| rollout/            |          |\n",
            "|    ep_len_mean      | 680      |\n",
            "|    ep_rew_mean      | 148      |\n",
            "|    exploration_rate | 0.1      |\n",
            "| time/               |          |\n",
            "|    episodes         | 28       |\n",
            "|    fps              | 1349     |\n",
            "|    time_elapsed     | 14       |\n",
            "|    total_timesteps  | 19042    |\n",
            "----------------------------------\n",
            "Num timesteps: 20000\n",
            "Best mean reward: 210.00 - Last mean reward per episode: 147.93\n",
            "Num timesteps: 21000\n",
            "Best mean reward: 210.00 - Last mean reward per episode: 147.17\n",
            "----------------------------------\n",
            "| rollout/            |          |\n",
            "|    ep_len_mean      | 677      |\n",
            "|    ep_rew_mean      | 146      |\n",
            "|    exploration_rate | 0.1      |\n",
            "| time/               |          |\n",
            "|    episodes         | 32       |\n",
            "|    fps              | 1345     |\n",
            "|    time_elapsed     | 16       |\n",
            "|    total_timesteps  | 21659    |\n",
            "----------------------------------\n",
            "Num timesteps: 22000\n",
            "Best mean reward: 210.00 - Last mean reward per episode: 146.41\n",
            "Num timesteps: 23000\n",
            "Best mean reward: 210.00 - Last mean reward per episode: 141.03\n",
            "Num timesteps: 24000\n",
            "Best mean reward: 210.00 - Last mean reward per episode: 142.57\n",
            "----------------------------------\n",
            "| rollout/            |          |\n",
            "|    ep_len_mean      | 671      |\n",
            "|    ep_rew_mean      | 141      |\n",
            "|    exploration_rate | 0.1      |\n",
            "| time/               |          |\n",
            "|    episodes         | 36       |\n",
            "|    fps              | 1347     |\n",
            "|    time_elapsed     | 17       |\n",
            "|    total_timesteps  | 24166    |\n",
            "----------------------------------\n",
            "Num timesteps: 25000\n",
            "Best mean reward: 210.00 - Last mean reward per episode: 141.39\n",
            "Num timesteps: 26000\n",
            "Best mean reward: 210.00 - Last mean reward per episode: 145.68\n",
            "Num timesteps: 27000\n",
            "Best mean reward: 210.00 - Last mean reward per episode: 144.74\n",
            "----------------------------------\n",
            "| rollout/            |          |\n",
            "|    ep_len_mean      | 685      |\n",
            "|    ep_rew_mean      | 144      |\n",
            "|    exploration_rate | 0.1      |\n",
            "| time/               |          |\n",
            "|    episodes         | 40       |\n",
            "|    fps              | 1347     |\n",
            "|    time_elapsed     | 20       |\n",
            "|    total_timesteps  | 27389    |\n",
            "----------------------------------\n",
            "Num timesteps: 28000\n",
            "Best mean reward: 210.00 - Last mean reward per episode: 142.20\n",
            "Num timesteps: 29000\n",
            "Best mean reward: 210.00 - Last mean reward per episode: 140.00\n",
            "----------------------------------\n",
            "| rollout/            |          |\n",
            "|    ep_len_mean      | 671      |\n",
            "|    ep_rew_mean      | 140      |\n",
            "|    exploration_rate | 0.1      |\n",
            "| time/               |          |\n",
            "|    episodes         | 44       |\n",
            "|    fps              | 1303     |\n",
            "|    time_elapsed     | 22       |\n",
            "|    total_timesteps  | 29530    |\n",
            "----------------------------------\n",
            "Num timesteps: 30000\n",
            "Best mean reward: 210.00 - Last mean reward per episode: 139.89\n",
            "Num timesteps: 31000\n",
            "Best mean reward: 210.00 - Last mean reward per episode: 139.02\n",
            "----------------------------------\n",
            "| rollout/            |          |\n",
            "|    ep_len_mean      | 660      |\n",
            "|    ep_rew_mean      | 136      |\n",
            "|    exploration_rate | 0.1      |\n",
            "| time/               |          |\n",
            "|    episodes         | 48       |\n",
            "|    fps              | 1306     |\n",
            "|    time_elapsed     | 24       |\n",
            "|    total_timesteps  | 31698    |\n",
            "----------------------------------\n",
            "Num timesteps: 32000\n",
            "Best mean reward: 210.00 - Last mean reward per episode: 135.83\n",
            "Num timesteps: 33000\n",
            "Best mean reward: 210.00 - Last mean reward per episode: 132.70\n",
            "Num timesteps: 34000\n",
            "Best mean reward: 210.00 - Last mean reward per episode: 131.86\n",
            "----------------------------------\n",
            "| rollout/            |          |\n",
            "|    ep_len_mean      | 669      |\n",
            "|    ep_rew_mean      | 134      |\n",
            "|    exploration_rate | 0.1      |\n",
            "| time/               |          |\n",
            "|    episodes         | 52       |\n",
            "|    fps              | 1307     |\n",
            "|    time_elapsed     | 26       |\n",
            "|    total_timesteps  | 34796    |\n",
            "----------------------------------\n",
            "Num timesteps: 35000\n",
            "Best mean reward: 210.00 - Last mean reward per episode: 133.65\n",
            "Num timesteps: 36000\n",
            "Best mean reward: 210.00 - Last mean reward per episode: 132.22\n",
            "Num timesteps: 37000\n",
            "Best mean reward: 210.00 - Last mean reward per episode: 132.27\n",
            "----------------------------------\n",
            "| rollout/            |          |\n",
            "|    ep_len_mean      | 674      |\n",
            "|    ep_rew_mean      | 137      |\n",
            "|    exploration_rate | 0.1      |\n",
            "| time/               |          |\n",
            "|    episodes         | 56       |\n",
            "|    fps              | 1308     |\n",
            "|    time_elapsed     | 28       |\n",
            "|    total_timesteps  | 37761    |\n",
            "----------------------------------\n",
            "Num timesteps: 38000\n",
            "Best mean reward: 210.00 - Last mean reward per episode: 137.05\n",
            "Num timesteps: 39000\n",
            "Best mean reward: 210.00 - Last mean reward per episode: 138.07\n",
            "Num timesteps: 40000\n",
            "Best mean reward: 210.00 - Last mean reward per episode: 140.42\n",
            "----------------------------------\n",
            "| rollout/            |          |\n",
            "|    ep_len_mean      | 675      |\n",
            "|    ep_rew_mean      | 140      |\n",
            "|    exploration_rate | 0.1      |\n",
            "| time/               |          |\n",
            "|    episodes         | 60       |\n",
            "|    fps              | 1312     |\n",
            "|    time_elapsed     | 30       |\n",
            "|    total_timesteps  | 40489    |\n",
            "----------------------------------\n",
            "Num timesteps: 41000\n",
            "Best mean reward: 210.00 - Last mean reward per episode: 139.58\n",
            "Num timesteps: 42000\n",
            "Best mean reward: 210.00 - Last mean reward per episode: 140.90\n",
            "Num timesteps: 43000\n",
            "Best mean reward: 210.00 - Last mean reward per episode: 140.56\n",
            "----------------------------------\n",
            "| rollout/            |          |\n",
            "|    ep_len_mean      | 679      |\n",
            "|    ep_rew_mean      | 140      |\n",
            "|    exploration_rate | 0.1      |\n",
            "| time/               |          |\n",
            "|    episodes         | 64       |\n",
            "|    fps              | 1315     |\n",
            "|    time_elapsed     | 33       |\n",
            "|    total_timesteps  | 43465    |\n",
            "----------------------------------\n",
            "Num timesteps: 44000\n",
            "Best mean reward: 210.00 - Last mean reward per episode: 140.00\n",
            "Num timesteps: 45000\n",
            "Best mean reward: 210.00 - Last mean reward per episode: 139.32\n",
            "----------------------------------\n",
            "| rollout/            |          |\n",
            "|    ep_len_mean      | 674      |\n",
            "|    ep_rew_mean      | 139      |\n",
            "|    exploration_rate | 0.1      |\n",
            "| time/               |          |\n",
            "|    episodes         | 68       |\n",
            "|    fps              | 1316     |\n",
            "|    time_elapsed     | 34       |\n",
            "|    total_timesteps  | 45809    |\n",
            "----------------------------------\n",
            "Num timesteps: 46000\n",
            "Best mean reward: 210.00 - Last mean reward per episode: 139.26\n",
            "Num timesteps: 47000\n",
            "Best mean reward: 210.00 - Last mean reward per episode: 138.77\n",
            "Num timesteps: 48000\n",
            "Best mean reward: 210.00 - Last mean reward per episode: 137.75\n",
            "----------------------------------\n",
            "| rollout/            |          |\n",
            "|    ep_len_mean      | 670      |\n",
            "|    ep_rew_mean      | 138      |\n",
            "|    exploration_rate | 0.1      |\n",
            "| time/               |          |\n",
            "|    episodes         | 72       |\n",
            "|    fps              | 1318     |\n",
            "|    time_elapsed     | 36       |\n",
            "|    total_timesteps  | 48253    |\n",
            "----------------------------------\n",
            "Num timesteps: 49000\n",
            "Best mean reward: 210.00 - Last mean reward per episode: 137.12\n",
            "Num timesteps: 50000\n",
            "Best mean reward: 210.00 - Last mean reward per episode: 138.92\n",
            "----------------------------------\n",
            "| rollout/            |          |\n",
            "|    ep_len_mean      | 671      |\n",
            "|    ep_rew_mean      | 138      |\n",
            "|    exploration_rate | 0.1      |\n",
            "| time/               |          |\n",
            "|    episodes         | 76       |\n",
            "|    fps              | 1262     |\n",
            "|    time_elapsed     | 40       |\n",
            "|    total_timesteps  | 50975    |\n",
            "----------------------------------\n",
            "Num timesteps: 51000\n",
            "Best mean reward: 210.00 - Last mean reward per episode: 137.63\n",
            "Num timesteps: 52000\n",
            "Best mean reward: 210.00 - Last mean reward per episode: 136.82\n",
            "Num timesteps: 53000\n",
            "Best mean reward: 210.00 - Last mean reward per episode: 136.54\n",
            "Num timesteps: 54000\n",
            "Best mean reward: 210.00 - Last mean reward per episode: 136.27\n",
            "----------------------------------\n",
            "| rollout/            |          |\n",
            "|    ep_len_mean      | 682      |\n",
            "|    ep_rew_mean      | 136      |\n",
            "|    exploration_rate | 0.1      |\n",
            "| time/               |          |\n",
            "|    episodes         | 80       |\n",
            "|    fps              | 1137     |\n",
            "|    time_elapsed     | 47       |\n",
            "|    total_timesteps  | 54587    |\n",
            "----------------------------------\n"
          ]
        },
        {
          "output_type": "execute_result",
          "data": {
            "text/plain": [
              "<stable_baselines3.dqn.dqn.DQN at 0x7fe7ee9a0410>"
            ]
          },
          "metadata": {},
          "execution_count": 7
        }
      ]
    },
    {
      "cell_type": "code",
      "source": [
        "dqn_model.save('dqn_50_10_episodes')"
      ],
      "metadata": {
        "id": "InjbPMcKCKKF"
      },
      "execution_count": null,
      "outputs": []
    },
    {
      "cell_type": "markdown",
      "metadata": {
        "id": "qQ4bxRQZDuk1"
      },
      "source": [
        "## Plotting helpers\n",
        "\n",
        "Stable Baselines3 has some built-in plotting helper, that you can find in `stable_baselines3.common.results_plotter`. However, to show how to do it yourself, we are going to use custom plotting functions. "
      ]
    },
    {
      "cell_type": "code",
      "metadata": {
        "id": "h_kMEHmJm3P3",
        "colab": {
          "base_uri": "https://localhost:8080/",
          "height": 153
        },
        "outputId": "a2270090-4a70-40c1-c3de-657d7e46bb9a"
      },
      "source": [
        "from stable_baselines3.common import results_plotter\n",
        "\n",
        "# Helper from the library\n",
        "results_plotter.plot_results([log_dir], 1e5, results_plotter.X_TIMESTEPS, \"dqn 50k ,10ep\")"
      ],
      "execution_count": null,
      "outputs": [
        {
          "output_type": "display_data",
          "data": {
            "text/plain": [
              "<Figure size 576x144 with 1 Axes>"
            ],
            "image/png": "[encoded data removed]"
          },
          "metadata": {
            "needs_background": "light"
          }
        }
      ]
    },
    {
      "cell_type": "code",
      "metadata": {
        "id": "mPXYbV39DiCj"
      },
      "source": [
        "def moving_average(values, window):\n",
        "    \"\"\"\n",
        "    Smooth values by doing a moving average\n",
        "    :param values: (numpy array)\n",
        "    :param window: (int)\n",
        "    :return: (numpy array)\n",
        "    \"\"\"\n",
        "    weights = np.repeat(1.0, window) / window\n",
        "    return np.convolve(values, weights, 'valid')\n",
        "\n",
        "\n",
        "def plot_results(log_folder, title='Learning Curve'):\n",
        "    \"\"\"\n",
        "    plot the results\n",
        "\n",
        "    :param log_folder: (str) the save location of the results to plot\n",
        "    :param title: (str) the title of the task to plot\n",
        "    \"\"\"\n",
        "    x, y = ts2xy(load_results(log_folder), 'timesteps')\n",
        "    y = moving_average(y, window=50)\n",
        "    # Truncate x\n",
        "    x = x[len(x) - len(y):]\n",
        "\n",
        "    fig = plt.figure(title)\n",
        "    plt.plot(x, y)\n",
        "    plt.xlabel('Number of Timesteps')\n",
        "    plt.ylabel('Rewards')\n",
        "    plt.title(title + \" Smoothed\")\n",
        "    plt.show()\n"
      ],
      "execution_count": null,
      "outputs": []
    },
    {
      "cell_type": "code",
      "metadata": {
        "id": "CQXx7HiSDt7_",
        "colab": {
          "base_uri": "https://localhost:8080/",
          "height": 295
        },
        "outputId": "f4e45256-628b-48e8-cc1a-c197767f9ad5"
      },
      "source": [
        "plot_results(log_dir)"
      ],
      "execution_count": null,
      "outputs": [
        {
          "output_type": "display_data",
          "data": {
            "text/plain": [
              "<Figure size 432x288 with 1 Axes>"
            ],
            "image/png": "[encoded data removed]"
          },
          "metadata": {
            "needs_background": "light"
          }
        }
      ]
    },
    {
      "cell_type": "markdown",
      "source": [
        "# running the game with the agent "
      ],
      "metadata": {
        "id": "XT4RQQ99aTk2"
      }
    },
    {
      "cell_type": "code",
      "source": [
        "!apt-get install ffmpeg freeglut3-dev xvfb  # For visualization\n",
        "!apt-get install -y xvfb python-opengl ffmpeg > /dev/null 2>&1 # render \n",
        "!pip install -U colabgymrender # for rendering"
      ],
      "metadata": {
        "id": "2Xau-A9sAxsW"
      },
      "execution_count": null,
      "outputs": []
    },
    {
      "cell_type": "code",
      "metadata": {
        "id": "PQmsSZUHKNRG"
      },
      "source": [
        "from colabgymrender.recorder import Recorder\n",
        "\n",
        "directory = './video'\n",
        "env = Recorder(env, directory)\n",
        "\n",
        "observation = env.reset()\n",
        "done = False\n",
        "while not done:\n",
        "  action, _states = dqn_model.predict(observation, deterministic=True)\n",
        "  observation, rewards, dones, info = env.step(action)\n",
        "  \n",
        "\n",
        "env.play()\n",
        "height, width, channels = env.observation_space.shape\n",
        "actions = env.action_space.n"
      ],
      "execution_count": null,
      "outputs": []
    },
    {
      "cell_type": "markdown",
      "source": [
        "# trying qrdqn"
      ],
      "metadata": {
        "id": "9Vx5l5TicFE4"
      }
    },
    {
      "cell_type": "code",
      "source": [
        "tensorboard_log_train = \"/content/train\"\n"
      ],
      "metadata": {
        "id": "QAYAwn9VZCDS"
      },
      "execution_count": 12,
      "outputs": []
    },
    {
      "cell_type": "code",
      "source": [
        "# Create the callback: check every 1000 steps\n",
        "callback = SaveOnBestTrainingRewardCallback(check_freq=1000, log_dir=log_dir)\n",
        "# Create RL model\n",
        "qrdqn_model = QRDQN(\"CnnPolicy\",\n",
        "            env,\n",
        "            verbose=1,\n",
        "            train_freq=20,\n",
        "            gamma=0.95,\n",
        "            exploration_fraction=0.01,\n",
        "            exploration_final_eps=0.1,\n",
        "            buffer_size=10000,\n",
        "            learning_rate=3e-3,\n",
        "            policy_kwargs=dict(net_arch=[256, 256]),\n",
        "            seed=2)\n",
        "\n",
        "# Train the agent\n",
        "qrdqn_model.learn(total_timesteps=int(1e5), callback=callback, tb_log_name=tensorboard_log_train)"
      ],
      "metadata": {
        "id": "EIpBul84ET2a",
        "outputId": "00e7c323-d637-48b9-8668-55c3bd3fd603",
        "colab": {
          "base_uri": "https://localhost:8080/"
        }
      },
      "execution_count": 19,
      "outputs": [
        {
          "output_type": "stream",
          "name": "stdout",
          "text": [
            "Using cuda device\n",
            "Wrapping the env in a DummyVecEnv.\n",
            "Wrapping the env in a VecTransposeImage.\n",
            "Num timesteps: 1000\n",
            "Best mean reward: -inf - Last mean reward per episode: 147.20\n",
            "Saving new best model to /tmp/gym/best_model.zip\n",
            "Num timesteps: 2000\n",
            "Best mean reward: 147.20 - Last mean reward per episode: 148.35\n",
            "Saving new best model to /tmp/gym/best_model.zip\n",
            "----------------------------------\n",
            "| rollout/            |          |\n",
            "|    ep_len_mean      | 619      |\n",
            "|    ep_rew_mean      | 151      |\n",
            "|    exploration rate | 0.1      |\n",
            "| time/               |          |\n",
            "|    episodes         | 4        |\n",
            "|    fps              | 952      |\n",
            "|    time_elapsed     | 2        |\n",
            "|    total_timesteps  | 2477     |\n",
            "----------------------------------\n",
            "Num timesteps: 3000\n",
            "Best mean reward: 148.35 - Last mean reward per episode: 149.55\n",
            "Saving new best model to /tmp/gym/best_model.zip\n",
            "Num timesteps: 4000\n",
            "Best mean reward: 149.55 - Last mean reward per episode: 151.30\n",
            "Saving new best model to /tmp/gym/best_model.zip\n",
            "Num timesteps: 5000\n",
            "Best mean reward: 151.30 - Last mean reward per episode: 150.60\n",
            "----------------------------------\n",
            "| rollout/            |          |\n",
            "|    ep_len_mean      | 675      |\n",
            "|    ep_rew_mean      | 158      |\n",
            "|    exploration rate | 0.1      |\n",
            "| time/               |          |\n",
            "|    episodes         | 8        |\n",
            "|    fps              | 986      |\n",
            "|    time_elapsed     | 5        |\n",
            "|    total_timesteps  | 5400     |\n",
            "----------------------------------\n",
            "Num timesteps: 6000\n",
            "Best mean reward: 151.30 - Last mean reward per episode: 151.35\n",
            "Saving new best model to /tmp/gym/best_model.zip\n",
            "Num timesteps: 7000\n",
            "Best mean reward: 151.35 - Last mean reward per episode: 152.05\n",
            "Saving new best model to /tmp/gym/best_model.zip\n",
            "Num timesteps: 8000\n",
            "Best mean reward: 152.05 - Last mean reward per episode: 150.60\n",
            "----------------------------------\n",
            "| rollout/            |          |\n",
            "|    ep_len_mean      | 697      |\n",
            "|    ep_rew_mean      | 161      |\n",
            "|    exploration rate | 0.1      |\n",
            "| time/               |          |\n",
            "|    episodes         | 12       |\n",
            "|    fps              | 959      |\n",
            "|    time_elapsed     | 8        |\n",
            "|    total_timesteps  | 8366     |\n",
            "----------------------------------\n",
            "Num timesteps: 9000\n",
            "Best mean reward: 152.05 - Last mean reward per episode: 148.90\n",
            "Num timesteps: 10000\n",
            "Best mean reward: 152.05 - Last mean reward per episode: 148.90\n",
            "Num timesteps: 11000\n",
            "Best mean reward: 152.05 - Last mean reward per episode: 150.80\n",
            "----------------------------------\n",
            "| rollout/            |          |\n",
            "|    ep_len_mean      | 719      |\n",
            "|    ep_rew_mean      | 163      |\n",
            "|    exploration rate | 0.1      |\n",
            "| time/               |          |\n",
            "|    episodes         | 16       |\n",
            "|    fps              | 996      |\n",
            "|    time_elapsed     | 11       |\n",
            "|    total_timesteps  | 11509    |\n",
            "----------------------------------\n",
            "Num timesteps: 12000\n",
            "Best mean reward: 152.05 - Last mean reward per episode: 149.25\n",
            "Num timesteps: 13000\n",
            "Best mean reward: 152.05 - Last mean reward per episode: 149.75\n",
            "----------------------------------\n",
            "| rollout/            |          |\n",
            "|    ep_len_mean      | 685      |\n",
            "|    ep_rew_mean      | 149      |\n",
            "|    exploration rate | 0.1      |\n",
            "| time/               |          |\n",
            "|    episodes         | 20       |\n",
            "|    fps              | 1037     |\n",
            "|    time_elapsed     | 13       |\n",
            "|    total_timesteps  | 13698    |\n",
            "----------------------------------\n",
            "Num timesteps: 14000\n",
            "Best mean reward: 152.05 - Last mean reward per episode: 147.95\n",
            "Num timesteps: 15000\n",
            "Best mean reward: 152.05 - Last mean reward per episode: 147.90\n",
            "Num timesteps: 16000\n",
            "Best mean reward: 152.05 - Last mean reward per episode: 149.05\n",
            "----------------------------------\n",
            "| rollout/            |          |\n",
            "|    ep_len_mean      | 695      |\n",
            "|    ep_rew_mean      | 151      |\n",
            "|    exploration rate | 0.1      |\n",
            "| time/               |          |\n",
            "|    episodes         | 24       |\n",
            "|    fps              | 1083     |\n",
            "|    time_elapsed     | 15       |\n",
            "|    total_timesteps  | 16676    |\n",
            "----------------------------------\n",
            "Num timesteps: 17000\n",
            "Best mean reward: 152.05 - Last mean reward per episode: 149.55\n",
            "Num timesteps: 18000\n",
            "Best mean reward: 152.05 - Last mean reward per episode: 150.80\n",
            "Num timesteps: 19000\n",
            "Best mean reward: 152.05 - Last mean reward per episode: 150.25\n",
            "----------------------------------\n",
            "| rollout/            |          |\n",
            "|    ep_len_mean      | 680      |\n",
            "|    ep_rew_mean      | 148      |\n",
            "|    exploration rate | 0.1      |\n",
            "| time/               |          |\n",
            "|    episodes         | 28       |\n",
            "|    fps              | 1110     |\n",
            "|    time_elapsed     | 17       |\n",
            "|    total_timesteps  | 19042    |\n",
            "----------------------------------\n",
            "Num timesteps: 20000\n",
            "Best mean reward: 152.05 - Last mean reward per episode: 149.15\n",
            "Num timesteps: 21000\n",
            "Best mean reward: 152.05 - Last mean reward per episode: 149.30\n",
            "----------------------------------\n",
            "| rollout/            |          |\n",
            "|    ep_len_mean      | 677      |\n",
            "|    ep_rew_mean      | 146      |\n",
            "|    exploration rate | 0.1      |\n",
            "| time/               |          |\n",
            "|    episodes         | 32       |\n",
            "|    fps              | 1136     |\n",
            "|    time_elapsed     | 19       |\n",
            "|    total_timesteps  | 21659    |\n",
            "----------------------------------\n",
            "Num timesteps: 22000\n",
            "Best mean reward: 152.05 - Last mean reward per episode: 147.60\n",
            "Num timesteps: 23000\n",
            "Best mean reward: 152.05 - Last mean reward per episode: 145.10\n",
            "Num timesteps: 24000\n",
            "Best mean reward: 152.05 - Last mean reward per episode: 143.95\n",
            "----------------------------------\n",
            "| rollout/            |          |\n",
            "|    ep_len_mean      | 671      |\n",
            "|    ep_rew_mean      | 141      |\n",
            "|    exploration rate | 0.1      |\n",
            "| time/               |          |\n",
            "|    episodes         | 36       |\n",
            "|    fps              | 1155     |\n",
            "|    time_elapsed     | 20       |\n",
            "|    total_timesteps  | 24166    |\n",
            "----------------------------------\n",
            "Num timesteps: 25000\n",
            "Best mean reward: 152.05 - Last mean reward per episode: 143.40\n",
            "Num timesteps: 26000\n",
            "Best mean reward: 152.05 - Last mean reward per episode: 145.55\n",
            "Num timesteps: 27000\n",
            "Best mean reward: 152.05 - Last mean reward per episode: 145.25\n",
            "----------------------------------\n",
            "| rollout/            |          |\n",
            "|    ep_len_mean      | 685      |\n",
            "|    ep_rew_mean      | 144      |\n",
            "|    exploration rate | 0.1      |\n",
            "| time/               |          |\n",
            "|    episodes         | 40       |\n",
            "|    fps              | 1177     |\n",
            "|    time_elapsed     | 23       |\n",
            "|    total_timesteps  | 27389    |\n",
            "----------------------------------\n",
            "Num timesteps: 28000\n",
            "Best mean reward: 152.05 - Last mean reward per episode: 144.60\n",
            "Num timesteps: 29000\n",
            "Best mean reward: 152.05 - Last mean reward per episode: 144.20\n",
            "----------------------------------\n",
            "| rollout/            |          |\n",
            "|    ep_len_mean      | 671      |\n",
            "|    ep_rew_mean      | 140      |\n",
            "|    exploration rate | 0.1      |\n",
            "| time/               |          |\n",
            "|    episodes         | 44       |\n",
            "|    fps              | 1188     |\n",
            "|    time_elapsed     | 24       |\n",
            "|    total_timesteps  | 29530    |\n",
            "----------------------------------\n",
            "Num timesteps: 30000\n",
            "Best mean reward: 152.05 - Last mean reward per episode: 144.75\n",
            "Num timesteps: 31000\n",
            "Best mean reward: 152.05 - Last mean reward per episode: 144.15\n",
            "----------------------------------\n",
            "| rollout/            |          |\n",
            "|    ep_len_mean      | 660      |\n",
            "|    ep_rew_mean      | 136      |\n",
            "|    exploration rate | 0.1      |\n",
            "| time/               |          |\n",
            "|    episodes         | 48       |\n",
            "|    fps              | 1189     |\n",
            "|    time_elapsed     | 26       |\n",
            "|    total_timesteps  | 31698    |\n",
            "----------------------------------\n",
            "Num timesteps: 32000\n",
            "Best mean reward: 152.05 - Last mean reward per episode: 140.75\n",
            "Num timesteps: 33000\n",
            "Best mean reward: 152.05 - Last mean reward per episode: 137.70\n",
            "Num timesteps: 34000\n",
            "Best mean reward: 152.05 - Last mean reward per episode: 136.80\n",
            "----------------------------------\n",
            "| rollout/            |          |\n",
            "|    ep_len_mean      | 669      |\n",
            "|    ep_rew_mean      | 134      |\n",
            "|    exploration rate | 0.1      |\n",
            "| time/               |          |\n",
            "|    episodes         | 52       |\n",
            "|    fps              | 1162     |\n",
            "|    time_elapsed     | 29       |\n",
            "|    total_timesteps  | 34796    |\n",
            "----------------------------------\n",
            "Num timesteps: 35000\n",
            "Best mean reward: 152.05 - Last mean reward per episode: 137.25\n",
            "Num timesteps: 36000\n",
            "Best mean reward: 152.05 - Last mean reward per episode: 134.75\n",
            "Num timesteps: 37000\n",
            "Best mean reward: 152.05 - Last mean reward per episode: 134.30\n",
            "----------------------------------\n",
            "| rollout/            |          |\n",
            "|    ep_len_mean      | 674      |\n",
            "|    ep_rew_mean      | 137      |\n",
            "|    exploration rate | 0.1      |\n",
            "| time/               |          |\n",
            "|    episodes         | 56       |\n",
            "|    fps              | 1163     |\n",
            "|    time_elapsed     | 32       |\n",
            "|    total_timesteps  | 37761    |\n",
            "----------------------------------\n",
            "Num timesteps: 38000\n",
            "Best mean reward: 152.05 - Last mean reward per episode: 137.60\n",
            "Num timesteps: 39000\n",
            "Best mean reward: 152.05 - Last mean reward per episode: 137.95\n",
            "Num timesteps: 40000\n",
            "Best mean reward: 152.05 - Last mean reward per episode: 140.45\n",
            "----------------------------------\n",
            "| rollout/            |          |\n",
            "|    ep_len_mean      | 675      |\n",
            "|    ep_rew_mean      | 140      |\n",
            "|    exploration rate | 0.1      |\n",
            "| time/               |          |\n",
            "|    episodes         | 60       |\n",
            "|    fps              | 1175     |\n",
            "|    time_elapsed     | 34       |\n",
            "|    total_timesteps  | 40489    |\n",
            "----------------------------------\n",
            "Num timesteps: 41000\n",
            "Best mean reward: 152.05 - Last mean reward per episode: 140.10\n",
            "Num timesteps: 42000\n",
            "Best mean reward: 152.05 - Last mean reward per episode: 142.05\n",
            "Num timesteps: 43000\n",
            "Best mean reward: 152.05 - Last mean reward per episode: 143.15\n",
            "----------------------------------\n",
            "| rollout/            |          |\n",
            "|    ep_len_mean      | 679      |\n",
            "|    ep_rew_mean      | 140      |\n",
            "|    exploration rate | 0.1      |\n",
            "| time/               |          |\n",
            "|    episodes         | 64       |\n",
            "|    fps              | 1187     |\n",
            "|    time_elapsed     | 36       |\n",
            "|    total_timesteps  | 43465    |\n",
            "----------------------------------\n",
            "Num timesteps: 44000\n",
            "Best mean reward: 152.05 - Last mean reward per episode: 142.85\n",
            "Num timesteps: 45000\n",
            "Best mean reward: 152.05 - Last mean reward per episode: 142.75\n",
            "----------------------------------\n",
            "| rollout/            |          |\n",
            "|    ep_len_mean      | 674      |\n",
            "|    ep_rew_mean      | 139      |\n",
            "|    exploration rate | 0.1      |\n",
            "| time/               |          |\n",
            "|    episodes         | 68       |\n",
            "|    fps              | 1195     |\n",
            "|    time_elapsed     | 38       |\n",
            "|    total_timesteps  | 45809    |\n",
            "----------------------------------\n",
            "Num timesteps: 46000\n",
            "Best mean reward: 152.05 - Last mean reward per episode: 139.90\n",
            "Num timesteps: 47000\n",
            "Best mean reward: 152.05 - Last mean reward per episode: 138.25\n",
            "Num timesteps: 48000\n",
            "Best mean reward: 152.05 - Last mean reward per episode: 132.00\n",
            "----------------------------------\n",
            "| rollout/            |          |\n",
            "|    ep_len_mean      | 670      |\n",
            "|    ep_rew_mean      | 138      |\n",
            "|    exploration rate | 0.1      |\n",
            "| time/               |          |\n",
            "|    episodes         | 72       |\n",
            "|    fps              | 1201     |\n",
            "|    time_elapsed     | 40       |\n",
            "|    total_timesteps  | 48253    |\n",
            "----------------------------------\n",
            "Num timesteps: 49000\n",
            "Best mean reward: 152.05 - Last mean reward per episode: 131.75\n",
            "Num timesteps: 50000\n",
            "Best mean reward: 152.05 - Last mean reward per episode: 130.35\n",
            "----------------------------------\n",
            "| rollout/            |          |\n",
            "|    ep_len_mean      | 669      |\n",
            "|    ep_rew_mean      | 137      |\n",
            "|    exploration rate | 0.1      |\n",
            "| time/               |          |\n",
            "|    episodes         | 76       |\n",
            "|    fps              | 1144     |\n",
            "|    time_elapsed     | 44       |\n",
            "|    total_timesteps  | 50828    |\n",
            "| train/              |          |\n",
            "|    learning_rate    | 0.003    |\n",
            "|    loss             | 14       |\n",
            "|    n_updates        | 41       |\n",
            "----------------------------------\n",
            "Num timesteps: 51000\n",
            "Best mean reward: 152.05 - Last mean reward per episode: 128.65\n",
            "Num timesteps: 52000\n",
            "Best mean reward: 152.05 - Last mean reward per episode: 130.40\n",
            "Num timesteps: 53000\n",
            "Best mean reward: 152.05 - Last mean reward per episode: 131.30\n",
            "Num timesteps: 54000\n",
            "Best mean reward: 152.05 - Last mean reward per episode: 135.20\n",
            "----------------------------------\n",
            "| rollout/            |          |\n",
            "|    ep_len_mean      | 684      |\n",
            "|    ep_rew_mean      | 141      |\n",
            "|    exploration rate | 0.1      |\n",
            "| time/               |          |\n",
            "|    episodes         | 80       |\n",
            "|    fps              | 969      |\n",
            "|    time_elapsed     | 56       |\n",
            "|    total_timesteps  | 54690    |\n",
            "| train/              |          |\n",
            "|    learning_rate    | 0.003    |\n",
            "|    loss             | 0.127    |\n",
            "|    n_updates        | 234      |\n",
            "----------------------------------\n",
            "Num timesteps: 55000\n",
            "Best mean reward: 152.05 - Last mean reward per episode: 135.90\n",
            "Num timesteps: 56000\n",
            "Best mean reward: 152.05 - Last mean reward per episode: 137.35\n",
            "Num timesteps: 57000\n",
            "Best mean reward: 152.05 - Last mean reward per episode: 142.30\n",
            "Num timesteps: 58000\n",
            "Best mean reward: 152.05 - Last mean reward per episode: 142.30\n",
            "----------------------------------\n",
            "| rollout/            |          |\n",
            "|    ep_len_mean      | 702      |\n",
            "|    ep_rew_mean      | 148      |\n",
            "|    exploration rate | 0.1      |\n",
            "| time/               |          |\n",
            "|    episodes         | 84       |\n",
            "|    fps              | 843      |\n",
            "|    time_elapsed     | 69       |\n",
            "|    total_timesteps  | 58957    |\n",
            "| train/              |          |\n",
            "|    learning_rate    | 0.003    |\n",
            "|    loss             | 0.0838   |\n",
            "|    n_updates        | 447      |\n",
            "----------------------------------\n",
            "Num timesteps: 59000\n",
            "Best mean reward: 152.05 - Last mean reward per episode: 143.85\n",
            "Num timesteps: 60000\n",
            "Best mean reward: 152.05 - Last mean reward per episode: 143.85\n",
            "Num timesteps: 61000\n",
            "Best mean reward: 152.05 - Last mean reward per episode: 147.60\n",
            "Num timesteps: 62000\n",
            "Best mean reward: 152.05 - Last mean reward per episode: 148.40\n",
            "----------------------------------\n",
            "| rollout/            |          |\n",
            "|    ep_len_mean      | 712      |\n",
            "|    ep_rew_mean      | 154      |\n",
            "|    exploration rate | 0.1      |\n",
            "| time/               |          |\n",
            "|    episodes         | 88       |\n",
            "|    fps              | 769      |\n",
            "|    time_elapsed     | 81       |\n",
            "|    total_timesteps  | 62639    |\n",
            "| train/              |          |\n",
            "|    learning_rate    | 0.003    |\n",
            "|    loss             | 15.9     |\n",
            "|    n_updates        | 631      |\n",
            "----------------------------------\n",
            "Num timesteps: 63000\n",
            "Best mean reward: 152.05 - Last mean reward per episode: 149.40\n",
            "Num timesteps: 64000\n",
            "Best mean reward: 152.05 - Last mean reward per episode: 149.30\n",
            "Num timesteps: 65000\n",
            "Best mean reward: 152.05 - Last mean reward per episode: 148.85\n",
            "Num timesteps: 66000\n",
            "Best mean reward: 152.05 - Last mean reward per episode: 150.55\n",
            "----------------------------------\n",
            "| rollout/            |          |\n",
            "|    ep_len_mean      | 719      |\n",
            "|    ep_rew_mean      | 157      |\n",
            "|    exploration rate | 0.1      |\n",
            "| time/               |          |\n",
            "|    episodes         | 92       |\n",
            "|    fps              | 718      |\n",
            "|    time_elapsed     | 92       |\n",
            "|    total_timesteps  | 66134    |\n",
            "| train/              |          |\n",
            "|    learning_rate    | 0.003    |\n",
            "|    loss             | 93.5     |\n",
            "|    n_updates        | 806      |\n",
            "----------------------------------\n",
            "Num timesteps: 67000\n",
            "Best mean reward: 152.05 - Last mean reward per episode: 151.20\n",
            "Num timesteps: 68000\n",
            "Best mean reward: 152.05 - Last mean reward per episode: 149.70\n",
            "Num timesteps: 69000\n",
            "Best mean reward: 152.05 - Last mean reward per episode: 150.35\n",
            "----------------------------------\n",
            "| rollout/            |          |\n",
            "|    ep_len_mean      | 725      |\n",
            "|    ep_rew_mean      | 158      |\n",
            "|    exploration rate | 0.1      |\n",
            "| time/               |          |\n",
            "|    episodes         | 96       |\n",
            "|    fps              | 676      |\n",
            "|    time_elapsed     | 102      |\n",
            "|    total_timesteps  | 69598    |\n",
            "| train/              |          |\n",
            "|    learning_rate    | 0.003    |\n",
            "|    loss             | 62.2     |\n",
            "|    n_updates        | 979      |\n",
            "----------------------------------\n",
            "Num timesteps: 70000\n",
            "Best mean reward: 152.05 - Last mean reward per episode: 151.65\n",
            "Num timesteps: 71000\n",
            "Best mean reward: 152.05 - Last mean reward per episode: 153.90\n",
            "Saving new best model to /tmp/gym/best_model.zip\n",
            "Num timesteps: 72000\n",
            "Best mean reward: 153.90 - Last mean reward per episode: 156.80\n",
            "Saving new best model to /tmp/gym/best_model.zip\n",
            "Num timesteps: 73000\n",
            "Best mean reward: 156.80 - Last mean reward per episode: 158.65\n",
            "Saving new best model to /tmp/gym/best_model.zip\n",
            "----------------------------------\n",
            "| rollout/            |          |\n",
            "|    ep_len_mean      | 737      |\n",
            "|    ep_rew_mean      | 161      |\n",
            "|    exploration rate | 0.1      |\n",
            "| time/               |          |\n",
            "|    episodes         | 100      |\n",
            "|    fps              | 627      |\n",
            "|    time_elapsed     | 117      |\n",
            "|    total_timesteps  | 73741    |\n",
            "| train/              |          |\n",
            "|    learning_rate    | 0.003    |\n",
            "|    loss             | 17.6     |\n",
            "|    n_updates        | 1187     |\n",
            "----------------------------------\n",
            "Num timesteps: 74000\n",
            "Best mean reward: 158.65 - Last mean reward per episode: 161.25\n",
            "Saving new best model to /tmp/gym/best_model.zip\n",
            "Num timesteps: 75000\n",
            "Best mean reward: 161.25 - Last mean reward per episode: 161.45\n",
            "Saving new best model to /tmp/gym/best_model.zip\n",
            "Num timesteps: 76000\n",
            "Best mean reward: 161.45 - Last mean reward per episode: 163.55\n",
            "Saving new best model to /tmp/gym/best_model.zip\n",
            "Num timesteps: 77000\n",
            "Best mean reward: 163.55 - Last mean reward per episode: 164.90\n",
            "Saving new best model to /tmp/gym/best_model.zip\n",
            "Num timesteps: 78000\n",
            "Best mean reward: 164.90 - Last mean reward per episode: 164.90\n",
            "----------------------------------\n",
            "| rollout/            |          |\n",
            "|    ep_len_mean      | 756      |\n",
            "|    ep_rew_mean      | 166      |\n",
            "|    exploration rate | 0.1      |\n",
            "| time/               |          |\n",
            "|    episodes         | 104      |\n",
            "|    fps              | 584      |\n",
            "|    time_elapsed     | 133      |\n",
            "|    total_timesteps  | 78054    |\n",
            "| train/              |          |\n",
            "|    learning_rate    | 0.003    |\n",
            "|    loss             | 42.5     |\n",
            "|    n_updates        | 1402     |\n",
            "----------------------------------\n",
            "Num timesteps: 79000\n",
            "Best mean reward: 164.90 - Last mean reward per episode: 166.75\n",
            "Saving new best model to /tmp/gym/best_model.zip\n",
            "Num timesteps: 80000\n",
            "Best mean reward: 166.75 - Last mean reward per episode: 168.10\n",
            "Saving new best model to /tmp/gym/best_model.zip\n",
            "Num timesteps: 81000\n",
            "Best mean reward: 168.10 - Last mean reward per episode: 169.00\n",
            "Saving new best model to /tmp/gym/best_model.zip\n",
            "----------------------------------\n",
            "| rollout/            |          |\n",
            "|    ep_len_mean      | 764      |\n",
            "|    ep_rew_mean      | 171      |\n",
            "|    exploration rate | 0.1      |\n",
            "| time/               |          |\n",
            "|    episodes         | 108      |\n",
            "|    fps              | 554      |\n",
            "|    time_elapsed     | 147      |\n",
            "|    total_timesteps  | 81834    |\n",
            "| train/              |          |\n",
            "|    learning_rate    | 0.003    |\n",
            "|    loss             | 656      |\n",
            "|    n_updates        | 1591     |\n",
            "----------------------------------\n",
            "Num timesteps: 82000\n",
            "Best mean reward: 169.00 - Last mean reward per episode: 171.40\n",
            "Saving new best model to /tmp/gym/best_model.zip\n",
            "Num timesteps: 83000\n",
            "Best mean reward: 171.40 - Last mean reward per episode: 171.40\n",
            "Num timesteps: 84000\n",
            "Best mean reward: 171.40 - Last mean reward per episode: 172.40\n",
            "Saving new best model to /tmp/gym/best_model.zip\n",
            "Num timesteps: 85000\n",
            "Best mean reward: 172.40 - Last mean reward per episode: 173.55\n",
            "Saving new best model to /tmp/gym/best_model.zip\n",
            "----------------------------------\n",
            "| rollout/            |          |\n",
            "|    ep_len_mean      | 771      |\n",
            "|    ep_rew_mean      | 175      |\n",
            "|    exploration rate | 0.1      |\n",
            "| time/               |          |\n",
            "|    episodes         | 112      |\n",
            "|    fps              | 531      |\n",
            "|    time_elapsed     | 160      |\n",
            "|    total_timesteps  | 85453    |\n",
            "| train/              |          |\n",
            "|    learning_rate    | 0.003    |\n",
            "|    loss             | 78.3     |\n",
            "|    n_updates        | 1772     |\n",
            "----------------------------------\n",
            "Num timesteps: 86000\n",
            "Best mean reward: 173.55 - Last mean reward per episode: 175.35\n",
            "Saving new best model to /tmp/gym/best_model.zip\n",
            "Num timesteps: 87000\n",
            "Best mean reward: 175.35 - Last mean reward per episode: 176.40\n",
            "Saving new best model to /tmp/gym/best_model.zip\n",
            "Num timesteps: 88000\n",
            "Best mean reward: 176.40 - Last mean reward per episode: 176.40\n",
            "Num timesteps: 89000\n",
            "Best mean reward: 176.40 - Last mean reward per episode: 177.30\n",
            "Saving new best model to /tmp/gym/best_model.zip\n",
            "----------------------------------\n",
            "| rollout/            |          |\n",
            "|    ep_len_mean      | 778      |\n",
            "|    ep_rew_mean      | 179      |\n",
            "|    exploration rate | 0.1      |\n",
            "| time/               |          |\n",
            "|    episodes         | 116      |\n",
            "|    fps              | 510      |\n",
            "|    time_elapsed     | 175      |\n",
            "|    total_timesteps  | 89348    |\n",
            "| train/              |          |\n",
            "|    learning_rate    | 0.003    |\n",
            "|    loss             | 117      |\n",
            "|    n_updates        | 1967     |\n",
            "----------------------------------\n",
            "Num timesteps: 90000\n",
            "Best mean reward: 177.30 - Last mean reward per episode: 178.90\n",
            "Saving new best model to /tmp/gym/best_model.zip\n",
            "Num timesteps: 91000\n",
            "Best mean reward: 178.90 - Last mean reward per episode: 179.80\n",
            "Saving new best model to /tmp/gym/best_model.zip\n",
            "Num timesteps: 92000\n",
            "Best mean reward: 179.80 - Last mean reward per episode: 181.20\n",
            "Saving new best model to /tmp/gym/best_model.zip\n",
            "Num timesteps: 93000\n",
            "Best mean reward: 181.20 - Last mean reward per episode: 183.50\n",
            "Saving new best model to /tmp/gym/best_model.zip\n",
            "----------------------------------\n",
            "| rollout/            |          |\n",
            "|    ep_len_mean      | 794      |\n",
            "|    ep_rew_mean      | 186      |\n",
            "|    exploration rate | 0.1      |\n",
            "| time/               |          |\n",
            "|    episodes         | 120      |\n",
            "|    fps              | 492      |\n",
            "|    time_elapsed     | 189      |\n",
            "|    total_timesteps  | 93121    |\n",
            "| train/              |          |\n",
            "|    learning_rate    | 0.003    |\n",
            "|    loss             | 175      |\n",
            "|    n_updates        | 2156     |\n",
            "----------------------------------\n",
            "Num timesteps: 94000\n",
            "Best mean reward: 183.50 - Last mean reward per episode: 187.50\n",
            "Saving new best model to /tmp/gym/best_model.zip\n",
            "Num timesteps: 95000\n",
            "Best mean reward: 187.50 - Last mean reward per episode: 187.35\n",
            "Num timesteps: 96000\n",
            "Best mean reward: 187.50 - Last mean reward per episode: 188.10\n",
            "Saving new best model to /tmp/gym/best_model.zip\n",
            "----------------------------------\n",
            "| rollout/            |          |\n",
            "|    ep_len_mean      | 794      |\n",
            "|    ep_rew_mean      | 189      |\n",
            "|    exploration rate | 0.1      |\n",
            "| time/               |          |\n",
            "|    episodes         | 124      |\n",
            "|    fps              | 480      |\n",
            "|    time_elapsed     | 200      |\n",
            "|    total_timesteps  | 96126    |\n",
            "| train/              |          |\n",
            "|    learning_rate    | 0.003    |\n",
            "|    loss             | 157      |\n",
            "|    n_updates        | 2306     |\n",
            "----------------------------------\n",
            "Num timesteps: 97000\n",
            "Best mean reward: 188.10 - Last mean reward per episode: 189.25\n",
            "Saving new best model to /tmp/gym/best_model.zip\n",
            "Num timesteps: 98000\n",
            "Best mean reward: 189.25 - Last mean reward per episode: 189.60\n",
            "Saving new best model to /tmp/gym/best_model.zip\n",
            "Num timesteps: 99000\n",
            "Best mean reward: 189.60 - Last mean reward per episode: 191.15\n",
            "Saving new best model to /tmp/gym/best_model.zip\n",
            "Num timesteps: 100000\n",
            "Best mean reward: 191.15 - Last mean reward per episode: 193.60\n",
            "Saving new best model to /tmp/gym/best_model.zip\n"
          ]
        },
        {
          "output_type": "execute_result",
          "data": {
            "text/plain": [
              "<sb3_contrib.qrdqn.qrdqn.QRDQN at 0x7fe7e6b043d0>"
            ]
          },
          "metadata": {},
          "execution_count": 19
        }
      ]
    },
    {
      "cell_type": "code",
      "source": [
        "from stable_baselines3.common.evaluation import evaluate_policy\n",
        "mean_reward, std_reward = evaluate_policy(qrdqn_model, qrdqn_model.get_env(), deterministic=True, n_eval_episodes=5)\n",
        "\n",
        "print(f\"mean_reward:{mean_reward:.2f} +/- {std_reward:.2f}\")"
      ],
      "metadata": {
        "colab": {
          "base_uri": "https://localhost:8080/"
        },
        "id": "v0AOQN_4Abus",
        "outputId": "86503add-adfe-4d7d-eab1-a83357871669"
      },
      "execution_count": 20,
      "outputs": [
        {
          "output_type": "stream",
          "name": "stdout",
          "text": [
            "mean_reward:270.00 +/- 0.00\n"
          ]
        }
      ]
    },
    {
      "cell_type": "code",
      "source": [
        "from stable_baselines3.common import results_plotter\n",
        "\n",
        "# Helper from the library\n",
        "results_plotter.plot_results([log_dir], 1e6, results_plotter.X_TIMESTEPS, \"qrdqn_1million_step\")"
      ],
      "metadata": {
        "colab": {
          "base_uri": "https://localhost:8080/",
          "height": 153
        },
        "id": "k1j1kB-iAbzy",
        "outputId": "aacb3016-f7f7-4b9a-ec48-86b239c79f79"
      },
      "execution_count": 21,
      "outputs": [
        {
          "output_type": "display_data",
          "data": {
            "text/plain": [
              "<Figure size 576x144 with 1 Axes>"
            ],
            "image/png": "[encoded data removed]"
          },
          "metadata": {
            "needs_background": "light"
          }
        }
      ]
    },
    {
      "cell_type": "code",
      "source": [
        "plot_results(log_dir)\n"
      ],
      "metadata": {
        "colab": {
          "base_uri": "https://localhost:8080/",
          "height": 295
        },
        "id": "5ZckQWEPBrX_",
        "outputId": "1c58abe8-c630-4ac5-d667-b5afd7094a9c"
      },
      "execution_count": 23,
      "outputs": [
        {
          "output_type": "display_data",
          "data": {
            "text/plain": [
              "<Figure size 432x288 with 1 Axes>"
            ],
            "image/png": "[encoded data removed]"
          },
          "metadata": {
            "needs_background": "light"
          }
        }
      ]
    },
    {
      "cell_type": "code",
      "source": [
        ""
      ],
      "metadata": {
        "id": "BXx9zV0tCEmw"
      },
      "execution_count": null,
      "outputs": []
    },
    {
      "cell_type": "markdown",
      "source": [
        "# training for more (1 million qrdqn) "
      ],
      "metadata": {
        "id": "IlFDm0etAcVi"
      }
    },
    {
      "cell_type": "code",
      "source": [
        "qrdqn_model.learn(total_timesteps=int(1e6), callback=callback, tb_log_name=tensorboard_log_train)"
      ],
      "metadata": {
        "id": "NHLEKLCwChhA"
      },
      "execution_count": null,
      "outputs": []
    },
    {
      "cell_type": "code",
      "source": [
        "from stable_baselines3.common.evaluation import evaluate_policy\n",
        "mean_reward, std_reward = evaluate_policy(dqn_model, dqn_model.get_env(), deterministic=True, n_eval_episodes=5)\n",
        "\n",
        "print(f\"mean_reward:{mean_reward:.2f} +/- {std_reward:.2f}\")"
      ],
      "metadata": {
        "id": "Sx48A2QHhqmL",
        "outputId": "50b8e261-3a76-447b-d0a1-a72fbfd2b5f7",
        "colab": {
          "base_uri": "https://localhost:8080/"
        }
      },
      "execution_count": 13,
      "outputs": [
        {
          "output_type": "stream",
          "name": "stdout",
          "text": [
            "mean_reward:285.00 +/- 0.00\n"
          ]
        }
      ]
    },
    {
      "cell_type": "markdown",
      "source": [
        "mean reward increased by only 15 but the agent realized trying new actions earlier than normal dqn"
      ],
      "metadata": {
        "id": "O-u7Uoj-Cltb"
      }
    },
    {
      "cell_type": "code",
      "metadata": {
        "colab": {
          "base_uri": "https://localhost:8080/",
          "height": 153
        },
        "outputId": "7e5efa78-330a-4198-ac63-ccd32e4ebb40",
        "id": "CjcH_C4Cv5lw"
      },
      "source": [
        "from stable_baselines3.common import results_plotter\n",
        "\n",
        "# Helper from the library\n",
        "results_plotter.plot_results([log_dir], 1e6, results_plotter.X_TIMESTEPS, \"qrdqn_1million_step\")"
      ],
      "execution_count": 14,
      "outputs": [
        {
          "output_type": "display_data",
          "data": {
            "text/plain": [
              "<Figure size 576x144 with 1 Axes>"
            ],
            "image/png": "[encoded data removed]"
          },
          "metadata": {
            "needs_background": "light"
          }
        }
      ]
    },
    {
      "cell_type": "code",
      "metadata": {
        "id": "_jpK6Qglv5l1"
      },
      "source": [
        "def moving_average(values, window):\n",
        "\n",
        "    weights = np.repeat(1.0, window) / window\n",
        "    return np.convolve(values, weights, 'valid')\n",
        "\n",
        "\n",
        "def plot_results(log_folder, title='Learning Curve'):\n",
        "    \"\"\"\n",
        "    plot the results\n",
        "\n",
        "    :param log_folder: (str) the save location of the results to plot\n",
        "    :param title: (str) the title of the task to plot\n",
        "    \"\"\"\n",
        "    x, y = ts2xy(load_results(log_folder), 'timesteps')\n",
        "    y = moving_average(y, window=50)\n",
        "    # Truncate x\n",
        "    x = x[len(x) - len(y):]\n",
        "\n",
        "    fig = plt.figure(title)\n",
        "    plt.plot(x, y)\n",
        "    plt.xlabel('Number of Timesteps')\n",
        "    plt.ylabel('Rewards')\n",
        "    plt.title(title + \" Smoothed\")\n",
        "    plt.show()\n"
      ],
      "execution_count": 15,
      "outputs": []
    },
    {
      "cell_type": "code",
      "metadata": {
        "colab": {
          "base_uri": "https://localhost:8080/",
          "height": 295
        },
        "outputId": "79c3dcee-abfb-4fa4-bd4d-e280f351a450",
        "id": "gexf--Muv5l8"
      },
      "source": [
        "plot_results(log_dir)"
      ],
      "execution_count": 16,
      "outputs": [
        {
          "output_type": "display_data",
          "data": {
            "text/plain": [
              "<Figure size 432x288 with 1 Axes>"
            ],
            "image/png": "[encoded data removed]"
          },
          "metadata": {
            "needs_background": "light"
          }
        }
      ]
    },
    {
      "cell_type": "code",
      "source": [
        "dqn_model.save('qrdqn')"
      ],
      "metadata": {
        "id": "kOaVFZCUVKS8"
      },
      "execution_count": null,
      "outputs": []
    },
    {
      "cell_type": "code",
      "source": [
        "!unzip 'qrdqn.zip'"
      ],
      "metadata": {
        "id": "6XzzIHG-iKgQ",
        "outputId": "e23a16da-a3d6-4fac-c15f-0d42e488753a",
        "colab": {
          "base_uri": "https://localhost:8080/"
        }
      },
      "execution_count": null,
      "outputs": [
        {
          "output_type": "stream",
          "name": "stdout",
          "text": [
            "Archive:  qrdqn.zip\n",
            " extracting: data                    \n",
            " extracting: pytorch_variables.pth   \n",
            " extracting: policy.pth              \n",
            " extracting: policy.optimizer.pth    \n",
            " extracting: _stable_baselines3_version  \n",
            " extracting: system_info.txt         \n"
          ]
        }
      ]
    },
    {
      "cell_type": "code",
      "source": [
        "dqnreload = dqn_model.load('qrdqn')"
      ],
      "metadata": {
        "id": "eCnpJk8UiHWF"
      },
      "execution_count": null,
      "outputs": []
    },
    {
      "cell_type": "code",
      "source": [
        "%load_ext tensorboard\n",
        "%tensorboard --logdir=tensorboard_log_train"
      ],
      "metadata": {
        "id": "J0W5xWKHdj0M"
      },
      "execution_count": null,
      "outputs": []
    },
    {
      "cell_type": "markdown",
      "source": [
        "the model still needs more timesteps to learn"
      ],
      "metadata": {
        "id": "c4tx8PiGCVeD"
      }
    },
    {
      "cell_type": "markdown",
      "source": [
        "# trying hindsight replay integreted with dqn \n",
        "\n",
        "HER is no longer a seperate model"
      ],
      "metadata": {
        "id": "j-4uu9D0D9TG"
      }
    },
    {
      "cell_type": "code",
      "source": [
        "from stable_baselines3.her.goal_selection_strategy import GoalSelectionStrategy"
      ],
      "metadata": {
        "id": "Sq2MB2egAlnz"
      },
      "execution_count": 14,
      "outputs": []
    },
    {
      "cell_type": "code",
      "source": [
        "goal_selection_strategy = 'future' \n",
        "max_episode_length= 200\n",
        "# If True the HER transitions will get sampled online\n",
        "online_sampling = True\n",
        "HER_model = DQN\n",
        "\n",
        "model = HER_model(\"MultiInputPolicy\",\n",
        "    env,\n",
        "    replay_buffer_class=HerReplayBuffer,\n",
        "    # Parameters for HER\n",
        "    replay_buffer_kwargs= dict(\n",
        "        goal_selection_strategy=goal_selection_strategy,\n",
        "        online_sampling=online_sampling,\n",
        "        max_episode_length=max_episode_length,\n",
        "    ))\n",
        "# Train the agent\n",
        "model.learn(total_timesteps=int(1e4), callback=callback)"
      ],
      "metadata": {
        "id": "_q6tzU1BDrVt"
      },
      "execution_count": null,
      "outputs": []
    }
  ]
}